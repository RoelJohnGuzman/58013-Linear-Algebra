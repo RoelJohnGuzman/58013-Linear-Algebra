{
  "nbformat": 4,
  "nbformat_minor": 0,
  "metadata": {
    "colab": {
      "provenance": [],
      "authorship_tag": "ABX9TyPj3yGqbbS3Csxaz3uJVTJN",
      "include_colab_link": true
    },
    "kernelspec": {
      "name": "python3",
      "display_name": "Python 3"
    },
    "language_info": {
      "name": "python"
    }
  },
  "cells": [
    {
      "cell_type": "markdown",
      "metadata": {
        "id": "view-in-github",
        "colab_type": "text"
      },
      "source": [
        "<a href=\"https://colab.research.google.com/github/RoelJohnGuzman/58013-Linear-Algebra/blob/main/Activity%204.ipynb\" target=\"_parent\"><img src=\"https://colab.research.google.com/assets/colab-badge.svg\" alt=\"Open In Colab\"/></a>"
      ]
    },
    {
      "cell_type": "code",
      "source": [
        "import numpy as np\n",
        "\n",
        "a = np.array([-0,4, 4.3, -0.6])\n",
        "b = np.array([-0.2, 0, 21])\n",
        "c = np.array([-0.22, 1, -1.5])\n",
        "\n",
        "result = a[0]+b[0]+c[0],a[1]+b[1]+c[1], a[2]+b[2]+c[2]\n",
        "print(result)"
      ],
      "metadata": {
        "colab": {
          "base_uri": "https://localhost:8080/"
        },
        "id": "NahBOiSmw53c",
        "outputId": "a498a75e-7484-4764-a872-18a7033ee9dd"
      },
      "execution_count": 3,
      "outputs": [
        {
          "output_type": "stream",
          "name": "stdout",
          "text": [
            "(-0.42000000000000004, 5.0, 23.8)\n"
          ]
        }
      ]
    }
  ]
}