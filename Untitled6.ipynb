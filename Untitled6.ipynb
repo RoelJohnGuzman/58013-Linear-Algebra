{
  "nbformat": 4,
  "nbformat_minor": 0,
  "metadata": {
    "colab": {
      "provenance": [],
      "authorship_tag": "ABX9TyO6unf8zujADMfhxEdtI6Ct",
      "include_colab_link": true
    },
    "kernelspec": {
      "name": "python3",
      "display_name": "Python 3"
    },
    "language_info": {
      "name": "python"
    }
  },
  "cells": [
    {
      "cell_type": "markdown",
      "metadata": {
        "id": "view-in-github",
        "colab_type": "text"
      },
      "source": [
        "<a href=\"https://colab.research.google.com/github/RoelJohnGuzman/58013-Linear-Algebra/blob/main/Untitled6.ipynb\" target=\"_parent\"><img src=\"https://colab.research.google.com/assets/colab-badge.svg\" alt=\"Open In Colab\"/></a>"
      ]
    },
    {
      "cell_type": "code",
      "execution_count": 1,
      "metadata": {
        "colab": {
          "base_uri": "https://localhost:8080/"
        },
        "id": "QuPS5tZZbjzC",
        "outputId": "15e1e116-5846-4846-8b3f-466c9d05d308"
      },
      "outputs": [
        {
          "output_type": "execute_result",
          "data": {
            "text/plain": [
              "3.0000000000000004"
            ]
          },
          "metadata": {},
          "execution_count": 1
        }
      ],
      "source": [
        "import numpy as np\n",
        "import matplotlib.pyplot as plt\n",
        "%matplotlib inline\n",
        "\n",
        "A = np.array([\n",
        "    [1,4],\n",
        "    [0,3]\n",
        "])\n",
        "np.linalg.det(A)\n"
      ]
    },
    {
      "cell_type": "code",
      "source": [
        "## Now other mathematics classes would require you to solve this by hand,\n",
        "## and that is great for practicing your memorization and coordination skills\n",
        "## but in this class we aim for simplicity and speed so we'll use programming\n",
        "## but it's completely fine if you want to try to solve this one by hand.\n",
        "B = np.array([\n",
        "    [1,3,5,6],\n",
        "    [0,3,1,3],\n",
        "    [3,1,8,2],\n",
        "    [5,2,6,8]\n",
        "])\n",
        "np.linalg.det(B)\n"
      ],
      "metadata": {
        "colab": {
          "base_uri": "https://localhost:8080/"
        },
        "id": "4FXhhIywbrmo",
        "outputId": "4a67fd29-7765-4916-94d6-e0090198bbd7"
      },
      "execution_count": 2,
      "outputs": [
        {
          "output_type": "execute_result",
          "data": {
            "text/plain": [
              "-235.0000000000002"
            ]
          },
          "metadata": {},
          "execution_count": 2
        }
      ]
    },
    {
      "cell_type": "code",
      "source": [
        "import numpy as np\n",
        "\n",
        "# Define two 3x3 matrices A and B\n",
        "A = np.array([[1, 2, 3], [4, 5, 6], [7, 8, 9]])\n",
        "B = np.array([[9, 8, 7], [6, 5, 4], [3, 2, 1]])\n",
        "\n",
        "# 1. Associative Property: (A * B) * C == A * (B * C)\n",
        "C = np.array([[2, 0, 1], [1, 2, 0], [0, 1, 2]])\n",
        "result1 = np.dot(np.dot(A, B), C)\n",
        "result2 = np.dot(A, np.dot(B, C))\n",
        "print(result1)\n",
        "print('\\n')\n",
        "print(result2)\n",
        "\n",
        "print(\"Associative Property: Proving: \", np.array_equal(result1, result2), \"\\n\")\n",
        "print(\"------------------------------\")\n",
        "\n",
        "#2. Distributive Property: A * (B + C) == A * B + A * C\n",
        "D = np.array([[1, 1, 1], [1, 1, 1], [1, 1, 1]])\n",
        "result3 = np.dot(A, B + C)\n",
        "result4 = np.dot(A, B) + np.dot(A, C)\n",
        "print(result3,\"\\n\")\n",
        "print(result4)\n",
        "print(\"Distributive Property Proving: \", np.array_equal(result3, result4), \"\\n\")\n",
        "print(\"------------------------------\")\n",
        "\n",
        "# 3. Identity Property: A * I == A\n",
        "I = np.identity(3)\n",
        "result5 = np.dot(A, I)\n",
        "print(result5)\n",
        "print(\"Identity Property Proving:\", np.array_equal(result5, A), \"\\n\")\n",
        "print(\"------------------------------\")\n",
        "\n",
        "# 4. Zero Property: A * 0 == 0\n",
        "zero_matrix = np.zeros((3, 3))\n",
        "result6 = np.dot(A, zero_matrix)\n",
        "print(result6)\n",
        "print(\"Zero Property:\", np.array_equal(result6, zero_matrix), \"\\n\")\n",
        "print(\"------------------------------\")\n",
        "\n",
        "\n",
        "# 5. Commutative Property: A * B != B * A in general\n",
        "result7 = np.dot(A, B)\n",
        "result8 = np.dot(B, A)\n",
        "print(result7, \"\\n\")\n",
        "print(result8)\n",
        "print(\"Commutative Property:\", not np.array_equal(result7, result8),\"\\n\")\n",
        "print(\"------------------------------\")\n",
        "\n",
        "# 6. Non-Associative Property: (A * B) * C != A * (B * C) in general\n",
        "result9 = np.dot(np.dot(A, B), C)\n",
        "result10 = np.dot(A, np.dot(B, C))\n",
        "print(result9, \"\\n\")\n",
        "print(result10)\n",
        "print(\"Non-Associative Property:\", not np.array_equal(result9, result10), \"\\n\")\n",
        "print(\"------------------------------\")\n"
      ],
      "metadata": {
        "colab": {
          "base_uri": "https://localhost:8080/"
        },
        "id": "YVaEtITebt7C",
        "outputId": "038ae610-dd79-426d-8c1f-d978485ff40c"
      },
      "execution_count": 26,
      "outputs": [
        {
          "output_type": "stream",
          "name": "stdout",
          "text": [
            "[[ 84  66  66]\n",
            " [237 192 192]\n",
            " [390 318 318]]\n",
            "\n",
            "\n",
            "[[ 84  66  66]\n",
            " [237 192 192]\n",
            " [390 318 318]]\n",
            "Associative Property: Proving:  True \n",
            "\n",
            "------------------------------\n",
            "[[ 34  31  25]\n",
            " [ 97  85  70]\n",
            " [160 139 115]] \n",
            "\n",
            "[[ 34  31  25]\n",
            " [ 97  85  70]\n",
            " [160 139 115]]\n",
            "Distributive Property Proving:  True \n",
            "\n",
            "------------------------------\n",
            "[[1. 2. 3.]\n",
            " [4. 5. 6.]\n",
            " [7. 8. 9.]]\n",
            "Identity Property Proving: True \n",
            "\n",
            "------------------------------\n",
            "[[0. 0. 0.]\n",
            " [0. 0. 0.]\n",
            " [0. 0. 0.]]\n",
            "Zero Property: True \n",
            "\n",
            "------------------------------\n",
            "[[ 30  24  18]\n",
            " [ 84  69  54]\n",
            " [138 114  90]] \n",
            "\n",
            "[[ 90 114 138]\n",
            " [ 54  69  84]\n",
            " [ 18  24  30]]\n",
            "Commutative Property: True \n",
            "\n",
            "------------------------------\n",
            "[[ 84  66  66]\n",
            " [237 192 192]\n",
            " [390 318 318]] \n",
            "\n",
            "[[ 84  66  66]\n",
            " [237 192 192]\n",
            " [390 318 318]]\n",
            "Non-Associative Property: False \n",
            "\n",
            "------------------------------\n"
          ]
        }
      ]
    },
    {
      "cell_type": "code",
      "source": [],
      "metadata": {
        "colab": {
          "base_uri": "https://localhost:8080/"
        },
        "id": "YFnT9fR0elqc",
        "outputId": "28addb53-63e6-40ad-88fc-00702428e8ed"
      },
      "execution_count": 9,
      "outputs": [
        {
          "output_type": "execute_result",
          "data": {
            "text/plain": [
              "True"
            ]
          },
          "metadata": {},
          "execution_count": 9
        }
      ]
    }
  ]
}