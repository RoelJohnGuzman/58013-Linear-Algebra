{
  "nbformat": 4,
  "nbformat_minor": 0,
  "metadata": {
    "colab": {
      "provenance": [],
      "authorship_tag": "ABX9TyPhWCYaWfw0PbAumK+yKhFg",
      "include_colab_link": true
    },
    "kernelspec": {
      "name": "python3",
      "display_name": "Python 3"
    },
    "language_info": {
      "name": "python"
    }
  },
  "cells": [
    {
      "cell_type": "markdown",
      "metadata": {
        "id": "view-in-github",
        "colab_type": "text"
      },
      "source": [
        "<a href=\"https://colab.research.google.com/github/RoelJohnGuzman/58013-Linear-Algebra/blob/main/Activity_3.ipynb\" target=\"_parent\"><img src=\"https://colab.research.google.com/assets/colab-badge.svg\" alt=\"Open In Colab\"/></a>"
      ]
    },
    {
      "cell_type": "code",
      "execution_count": null,
      "metadata": {
        "colab": {
          "base_uri": "https://localhost:8080/"
        },
        "id": "kzQRAUrKJEbe",
        "outputId": "55139032-21b9-4a76-dd30-28de3948794c"
      },
      "outputs": [
        {
          "output_type": "execute_result",
          "data": {
            "text/plain": [
              "2"
            ]
          },
          "metadata": {},
          "execution_count": 2
        }
      ],
      "source": [
        "import numpy as np\n",
        "\n",
        "A = np.array([1,2,0])\n",
        "B = np.array([3,1,-2])\n",
        "C = np.array([0,0,1])\n",
        "\n",
        "A+B+C\n",
        "\n",
        "np.add(A,np.add(B,C))\n",
        "\n",
        "np.sum(B)\n"
      ]
    },
    {
      "cell_type": "code",
      "source": [
        "import numpy as np\n",
        "np.subtract(A,B)\n",
        "\n",
        "A-B\n"
      ],
      "metadata": {
        "colab": {
          "base_uri": "https://localhost:8080/"
        },
        "id": "H7DnKzumJNfo",
        "outputId": "1a39876f-43a2-496e-cea5-7ac0c6911ded"
      },
      "execution_count": null,
      "outputs": [
        {
          "output_type": "execute_result",
          "data": {
            "text/plain": [
              "array([-2,  1,  2])"
            ]
          },
          "metadata": {},
          "execution_count": 3
        }
      ]
    },
    {
      "cell_type": "code",
      "source": [
        "import numpy as np\n",
        "np.multiply(A,B)\n",
        "\n",
        "A*B\n"
      ],
      "metadata": {
        "colab": {
          "base_uri": "https://localhost:8080/"
        },
        "id": "caTusBE1JSOK",
        "outputId": "ac7028fa-b955-41e4-fbfe-e5c89fcf9b1d"
      },
      "execution_count": null,
      "outputs": [
        {
          "output_type": "execute_result",
          "data": {
            "text/plain": [
              "array([3, 2, 0])"
            ]
          },
          "metadata": {},
          "execution_count": 4
        }
      ]
    },
    {
      "cell_type": "code",
      "source": [
        "import numpy as np\n",
        "np.divide(A,B)\n",
        "\n",
        "A/B\n",
        "\n",
        "C = np.array([3.9,1.8,7.7])\n",
        "D = np.array([1,1,1])\n",
        "C//D\n",
        "\n",
        "np.array(A/B,dtype=int)\n"
      ],
      "metadata": {
        "id": "vDtK87ZBJV78",
        "outputId": "30ebfc71-890a-4a37-802f-e0d9c33fbaf6",
        "colab": {
          "base_uri": "https://localhost:8080/"
        }
      },
      "execution_count": null,
      "outputs": [
        {
          "output_type": "execute_result",
          "data": {
            "text/plain": [
              "array([0, 2, 0])"
            ]
          },
          "metadata": {},
          "execution_count": 5
        }
      ]
    }
  ]
}