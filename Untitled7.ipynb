{
  "nbformat": 4,
  "nbformat_minor": 0,
  "metadata": {
    "colab": {
      "provenance": [],
      "authorship_tag": "ABX9TyMrHhrRJ9GgAlZg/FtNhNuE",
      "include_colab_link": true
    },
    "kernelspec": {
      "name": "python3",
      "display_name": "Python 3"
    },
    "language_info": {
      "name": "python"
    }
  },
  "cells": [
    {
      "cell_type": "markdown",
      "metadata": {
        "id": "view-in-github",
        "colab_type": "text"
      },
      "source": [
        "<a href=\"https://colab.research.google.com/github/RoelJohnGuzman/58013-Linear-Algebra/blob/main/Untitled7.ipynb\" target=\"_parent\"><img src=\"https://colab.research.google.com/assets/colab-badge.svg\" alt=\"Open In Colab\"/></a>"
      ]
    },
    {
      "cell_type": "code",
      "execution_count": 1,
      "metadata": {
        "colab": {
          "base_uri": "https://localhost:8080/"
        },
        "id": "WqKN8itB3cah",
        "outputId": "652ac684-c440-43f1-ff00-3eed218a15a1"
      },
      "outputs": [
        {
          "output_type": "stream",
          "name": "stdout",
          "text": [
            "[[ 1.  1.  1.]\n",
            " [ 3. -2. -1.]\n",
            " [-1.  4.  2.]]\n",
            "(3, 3)\n",
            "[[ 1.]\n",
            " [ 4.]\n",
            " [-3.]]\n",
            "(3, 1)\n"
          ]
        }
      ],
      "source": [
        "import numpy as np\n",
        "X = np.array([\n",
        "    [1,1,1],\n",
        "    [3,-2,-1],\n",
        "    [-1,4,2]\n",
        "], dtype=float)\n",
        "Y = np.array([\n",
        "    [1],\n",
        "    [4],\n",
        "    [-3]\n",
        "],dtype=float)\n",
        "print(X)\n",
        "print(X.shape)\n",
        "print(Y)\n",
        "print(Y.shape)\n"
      ]
    },
    {
      "cell_type": "code",
      "source": [
        "import numpy as np\n",
        "\n",
        "#month1---month2----month3\n",
        "d = np.array([12500,18000,25700])\n",
        "\n",
        "#sack of flour ----- packofyeast ----- eggs\n",
        "#month1\n",
        "a = np.array([30,10,120])\n",
        "#month2\n",
        "b = np.array([40,20,200])\n",
        "#month3\n",
        "c = np.array ([50,40,360])\n",
        "\n",
        "m1flour = d[0]/a[0]\n",
        "m1yeast = d[0]/a[1]\n",
        "m1eggs = d[0]/a[2]\n",
        "\n",
        "m2flour = d[1]/b[0]\n",
        "m2yeast = d[1]/b[1]\n",
        "m2eggs = d[1]/b[2]\n",
        "\n",
        "m3flour = d[2]/c[0]\n",
        "m3yeast = d[2]/c[1]\n",
        "m3eggs = d[2]/c[2]\n",
        "\n",
        "print(\"\\n The Prices for Month 1 are:\")\n",
        "print(\"Flour per sack: \",m1flour)\n",
        "print(\"Yeast per pack: \",m1yeast)\n",
        "print(\"A piece of egg: \",m1eggs)\n",
        "\n",
        "print(\"\\n The Prices for Month 2 are:\")\n",
        "print(\"Flour per sack: \",m2flour)\n",
        "print(\"Yeast per pack: \",m2yeast)\n",
        "print(\"A piece of egg: \",m2eggs)\n",
        "\n",
        "print(\"\\n The Prices for Month 2 are:\")\n",
        "print(\"Flour per sack: \",m3flour)\n",
        "print(\"Yeast per pack: \",m3yeast)\n",
        "print(\"A piece of egg: \",m3eggs)"
      ],
      "metadata": {
        "colab": {
          "base_uri": "https://localhost:8080/"
        },
        "id": "jYSbEe6J4EnI",
        "outputId": "c52ddc05-772b-4f6c-d2f4-566e517ad3ca"
      },
      "execution_count": 18,
      "outputs": [
        {
          "output_type": "stream",
          "name": "stdout",
          "text": [
            "\n",
            " The Prices for Month 1 are:\n",
            "Flour per sack:  416.6666666666667\n",
            "Yeast per pack:  1250.0\n",
            "A piece of egg:  104.16666666666667\n",
            "\n",
            " The Prices for Month 2 are:\n",
            "Flour per sack:  450.0\n",
            "Yeast per pack:  900.0\n",
            "A piece of egg:  90.0\n",
            "\n",
            " The Prices for Month 2 are:\n",
            "Flour per sack:  514.0\n",
            "Yeast per pack:  642.5\n",
            "A piece of egg:  71.38888888888889\n"
          ]
        }
      ]
    },
    {
      "cell_type": "code",
      "source": [],
      "metadata": {
        "id": "Nz6y77HoCr_L"
      },
      "execution_count": null,
      "outputs": []
    }
  ]
}