{
  "nbformat": 4,
  "nbformat_minor": 0,
  "metadata": {
    "colab": {
      "provenance": [],
      "authorship_tag": "ABX9TyMm72GMq11Hs+YxBEChtGNf",
      "include_colab_link": true
    },
    "kernelspec": {
      "name": "python3",
      "display_name": "Python 3"
    },
    "language_info": {
      "name": "python"
    }
  },
  "cells": [
    {
      "cell_type": "markdown",
      "metadata": {
        "id": "view-in-github",
        "colab_type": "text"
      },
      "source": [
        "<a href=\"https://colab.research.google.com/github/RoelJohnGuzman/58013-Linear-Algebra/blob/main/Activity_10.ipynb\" target=\"_parent\"><img src=\"https://colab.research.google.com/assets/colab-badge.svg\" alt=\"Open In Colab\"/></a>"
      ]
    },
    {
      "cell_type": "code",
      "execution_count": 1,
      "metadata": {
        "colab": {
          "base_uri": "https://localhost:8080/"
        },
        "id": "WqKN8itB3cah",
        "outputId": "652ac684-c440-43f1-ff00-3eed218a15a1"
      },
      "outputs": [
        {
          "output_type": "stream",
          "name": "stdout",
          "text": [
            "[[ 1.  1.  1.]\n",
            " [ 3. -2. -1.]\n",
            " [-1.  4.  2.]]\n",
            "(3, 3)\n",
            "[[ 1.]\n",
            " [ 4.]\n",
            " [-3.]]\n",
            "(3, 1)\n"
          ]
        }
      ],
      "source": [
        "import numpy as np\n",
        "X = np.array([\n",
        "    [1,1,1],\n",
        "    [3,-2,-1],\n",
        "    [-1,4,2]\n",
        "], dtype=float)\n",
        "Y = np.array([\n",
        "    [1],\n",
        "    [4],\n",
        "    [-3]\n",
        "],dtype=float)\n",
        "print(X)\n",
        "print(X.shape)\n",
        "print(Y)\n",
        "print(Y.shape)\n"
      ]
    },
    {
      "cell_type": "code",
      "source": [
        "#([12500,18000,25700])\n",
        "\n",
        "a = np.array([[30,10,120],[40,20,200],[50,40,360]])\n",
        "a1 = np.array([[12500,10,120],[18000,20,200],[25700,40,360]])\n",
        "a2 = np.array([[30,12500,120],[40,18000,200],[50,25700,360]])\n",
        "a3 = np.array([[30,10,12500],[40,20,18000],[50,40,25700]])\n",
        "\n",
        "y1 = np.linalg.det(a1)/np.linalg.det(a)\n",
        "y2 = np.linalg.det(a2)/np.linalg.det(a)\n",
        "y3 = np.linalg.det(a3)/np.linalg.det(a)\n",
        "\n",
        "print(\"Flour per sack: \", y1)\n",
        "print(\"Yeast per pack: \", y2)\n",
        "print(\"Price of egg: \", y3)"
      ],
      "metadata": {
        "colab": {
          "base_uri": "https://localhost:8080/"
        },
        "id": "dT-JN6CyFRFR",
        "outputId": "4c81e61f-879b-46ed-bc5e-8f739fd2f5ee"
      },
      "execution_count": 25,
      "outputs": [
        {
          "output_type": "stream",
          "name": "stdout",
          "text": [
            "Flour per sack:  329.99999999999784\n",
            "Yeast per pack:  139.99999999999994\n",
            "Price of egg:  10.000000000000242\n"
          ]
        }
      ]
    }
  ]
}