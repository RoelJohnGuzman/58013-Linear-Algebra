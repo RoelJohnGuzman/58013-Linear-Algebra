{
  "nbformat": 4,
  "nbformat_minor": 0,
  "metadata": {
    "colab": {
      "provenance": [],
      "authorship_tag": "ABX9TyNcXItaKjoB3P42W1wNM4UO",
      "include_colab_link": true
    },
    "kernelspec": {
      "name": "python3",
      "display_name": "Python 3"
    },
    "language_info": {
      "name": "python"
    }
  },
  "cells": [
    {
      "cell_type": "markdown",
      "metadata": {
        "id": "view-in-github",
        "colab_type": "text"
      },
      "source": [
        "<a href=\"https://colab.research.google.com/github/RoelJohnGuzman/58013-Linear-Algebra/blob/main/Long%20quiz%201.ipynb\" target=\"_parent\"><img src=\"https://colab.research.google.com/assets/colab-badge.svg\" alt=\"Open In Colab\"/></a>"
      ]
    },
    {
      "cell_type": "code",
      "execution_count": 45,
      "metadata": {
        "colab": {
          "base_uri": "https://localhost:8080/"
        },
        "id": "ShNxGLlRgP6W",
        "outputId": "77df1b1b-3d21-45fd-a76a-dfc7813c47e7"
      },
      "outputs": [
        {
          "output_type": "stream",
          "name": "stdout",
          "text": [
            "a.) \n",
            " [[22 28]\n",
            " [49 64]] \n",
            "\n",
            "b.) \n",
            " [[2 4]\n",
            " [6 8]] \n",
            "\n",
            "c.) \n",
            " [[ 2  4  6]\n",
            " [ 8 10 12]\n",
            " [14 16 18]]\n"
          ]
        }
      ],
      "source": [
        "#PROBLEM 1\n",
        "import numpy as np\n",
        "\n",
        "a = np.array ([[1,2,3],[4,5,6]])\n",
        "\n",
        "b = np.array([[1,2],[3,4],[5,6]])\n",
        "\n",
        "abresult = np.dot(a,b)\n",
        "print(\"a.) \\n\" ,abresult, \"\\n\" )\n",
        "\n",
        "\n",
        "d1 = np.array([[1,2],[3,4]])\n",
        "d2 = np.array([[1,2],[3,4]])\n",
        "dresult = d1+d2\n",
        "print(\"b.) \\n\", dresult,\"\\n\")\n",
        "\n",
        "\n",
        "c= np.array([[1,2,3],[4,5,6],[7,8,9]])\n",
        "cresult = 2*c\n",
        "print(\"c.) \\n\", cresult)"
      ]
    },
    {
      "cell_type": "code",
      "source": [
        "#PROBLEM 2\n",
        "import numpy as np\n",
        "\n",
        "a = np.array([2,7,4])\n",
        "b = np.array([3,9,8])\n",
        "\n",
        "result = a[1]*b[2]-a[2]*b[1], a[2]*b[0]- a[0]*b[2], a[0]*b[1]- a[1]*b[0]\n",
        "\n",
        "print(\"the cross product between A and B is\",result)\n"
      ],
      "metadata": {
        "colab": {
          "base_uri": "https://localhost:8080/"
        },
        "id": "r8VO9Cqxhr_7",
        "outputId": "ecf05872-5be0-41b8-938a-8cbf5b1f1720"
      },
      "execution_count": 44,
      "outputs": [
        {
          "output_type": "stream",
          "name": "stdout",
          "text": [
            "the cross product between A and B is (20, -4, -3)\n"
          ]
        }
      ]
    }
  ]
}