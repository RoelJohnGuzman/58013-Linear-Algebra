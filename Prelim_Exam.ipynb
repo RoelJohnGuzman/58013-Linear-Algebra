{
  "nbformat": 4,
  "nbformat_minor": 0,
  "metadata": {
    "colab": {
      "provenance": [],
      "authorship_tag": "ABX9TyNFO0R55sgFJXJT8+hfAfkX",
      "include_colab_link": true
    },
    "kernelspec": {
      "name": "python3",
      "display_name": "Python 3"
    },
    "language_info": {
      "name": "python"
    }
  },
  "cells": [
    {
      "cell_type": "markdown",
      "metadata": {
        "id": "view-in-github",
        "colab_type": "text"
      },
      "source": [
        "<a href=\"https://colab.research.google.com/github/RoelJohnGuzman/58013-Linear-Algebra/blob/main/Prelim_Exam.ipynb\" target=\"_parent\"><img src=\"https://colab.research.google.com/assets/colab-badge.svg\" alt=\"Open In Colab\"/></a>"
      ]
    },
    {
      "cell_type": "code",
      "source": [
        "#Question 1. Create a Multiplication Table/Chart of 1 to 10 using numpy/ python program.\n",
        "import numpy as np\n",
        "\n",
        "i, j = 1, 10\n",
        "numbers = np.array([1,2,3,4,5,6,7,8,9,10])\n",
        "while(i<=j):\n",
        "    new_number = i*numbers\n",
        "    print(new_number)\n",
        "    i+=1"
      ],
      "metadata": {
        "colab": {
          "base_uri": "https://localhost:8080/"
        },
        "id": "q1jCKMer22tA",
        "outputId": "a4119b04-1cf8-4d7e-f101-c40cfd85266c"
      },
      "execution_count": 3,
      "outputs": [
        {
          "output_type": "stream",
          "name": "stdout",
          "text": [
            "[ 1  2  3  4  5  6  7  8  9 10]\n",
            "[ 2  4  6  8 10 12 14 16 18 20]\n",
            "[ 3  6  9 12 15 18 21 24 27 30]\n",
            "[ 4  8 12 16 20 24 28 32 36 40]\n",
            "[ 5 10 15 20 25 30 35 40 45 50]\n",
            "[ 6 12 18 24 30 36 42 48 54 60]\n",
            "[ 7 14 21 28 35 42 49 56 63 70]\n",
            "[ 8 16 24 32 40 48 56 64 72 80]\n",
            "[ 9 18 27 36 45 54 63 72 81 90]\n",
            "[ 10  20  30  40  50  60  70  80  90 100]\n"
          ]
        }
      ]
    },
    {
      "cell_type": "code",
      "source": [
        "#Question 2. In relation to Question 1, show a solution that doubles all the values of each element.\n",
        "import numpy as np\n",
        "\n",
        "i, j = 1, 10\n",
        "numbers = np.array([1,2,3,4,5,6,7,8,9,10])\n",
        "while(i<=j):\n",
        "    new_number = i*numbers\n",
        "    double_number = new_number*2\n",
        "    print(double_number)\n",
        "    i+=1"
      ],
      "metadata": {
        "colab": {
          "base_uri": "https://localhost:8080/"
        },
        "id": "s5Uk-ojy25B-",
        "outputId": "ddbc1b04-d376-4db8-867d-27fdc4649399"
      },
      "execution_count": 4,
      "outputs": [
        {
          "output_type": "stream",
          "name": "stdout",
          "text": [
            "[ 2  4  6  8 10 12 14 16 18 20]\n",
            "[ 4  8 12 16 20 24 28 32 36 40]\n",
            "[ 6 12 18 24 30 36 42 48 54 60]\n",
            "[ 8 16 24 32 40 48 56 64 72 80]\n",
            "[ 10  20  30  40  50  60  70  80  90 100]\n",
            "[ 12  24  36  48  60  72  84  96 108 120]\n",
            "[ 14  28  42  56  70  84  98 112 126 140]\n",
            "[ 16  32  48  64  80  96 112 128 144 160]\n",
            "[ 18  36  54  72  90 108 126 144 162 180]\n",
            "[ 20  40  60  80 100 120 140 160 180 200]\n"
          ]
        }
      ]
    },
    {
      "cell_type": "code",
      "execution_count": 2,
      "metadata": {
        "colab": {
          "base_uri": "https://localhost:8080/"
        },
        "id": "vCVjP-2I2bEk",
        "outputId": "42fe3a9d-e537-4c0d-8b37-c56b51c3faef"
      },
      "outputs": [
        {
          "output_type": "stream",
          "name": "stdout",
          "text": [
            "[[1 0 0]\n",
            " [0 1 0]\n",
            " [0 0 1]]\n"
          ]
        }
      ],
      "source": [
        "#Question 3. Create a square matrix that has a diagonal 1's.\n",
        "import numpy as np\n",
        "\n",
        "a = np.array([[1,0,0],[0,1,0],[0,0,1]])\n",
        "print(a)"
      ]
    },
    {
      "cell_type": "code",
      "source": [
        "#Question 4. Type a python program that can view the size, shape, and dimension of the matrix above.\n",
        "matrix = np.array([[1, 2, 3, 4],\n",
        "                   [5, 6, 7, 8],\n",
        "                   [9, 10, 11, 12]])\n",
        "\n",
        "print(\"the shape is\", matrix.shape)\n",
        "print(\"the size is \", matrix.size)\n",
        "print(\"the dimension is \", matrix.ndim)"
      ],
      "metadata": {
        "colab": {
          "base_uri": "https://localhost:8080/"
        },
        "id": "kM1qtoBT3YKW",
        "outputId": "57a82244-7bb5-4742-b372-62c72f72ac01"
      },
      "execution_count": 6,
      "outputs": [
        {
          "output_type": "stream",
          "name": "stdout",
          "text": [
            "the shape is (3, 4)\n",
            "the size is  12\n",
            "the dimension is  2\n"
          ]
        }
      ]
    },
    {
      "cell_type": "code",
      "source": [
        "#Question 5.Create a result array by adding the following two NumPy arrays. Next, modify the result array by calculating the square of each element.\n",
        "import numpy as np\n",
        "\n",
        "arrayOne = np.array ([[5,6,9],[21,18,27]])\n",
        "arrayTwo = np.array ([[15,33,24],[4,7,1]])\n",
        "\n",
        "sumresult = np.add(arrayOne, arrayTwo)\n",
        "\n",
        "print(\"the sum in \\n \", sumresult, \"\\n\")\n",
        "\n",
        "squared = sumresult*sumresult\n",
        "\n",
        "print(\"the squared of the sum is \\n \", squared)\n",
        "\n",
        "\n"
      ],
      "metadata": {
        "colab": {
          "base_uri": "https://localhost:8080/"
        },
        "id": "i4DplMeD38EO",
        "outputId": "9297d5e1-8fdf-4ab3-9751-ab3d79cce992"
      },
      "execution_count": 14,
      "outputs": [
        {
          "output_type": "stream",
          "name": "stdout",
          "text": [
            "the sum in \n",
            "  [[20 39 33]\n",
            " [25 25 28]] \n",
            "\n",
            "the squared of the sum is \n",
            "  [[ 400 1521 1089]\n",
            " [ 625  625  784]]\n"
          ]
        }
      ]
    }
  ]
}